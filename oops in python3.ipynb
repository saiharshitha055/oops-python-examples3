{
 "cells": [
  {
   "cell_type": "code",
   "execution_count": 1,
   "id": "35199c4f",
   "metadata": {},
   "outputs": [
    {
     "name": "stdout",
     "output_type": "stream",
     "text": [
      "var: 200\n"
     ]
    }
   ],
   "source": [
    "class abc():\n",
    "    def __init__(self,var):\n",
    "        self.var=var\n",
    "    def display(self):\n",
    "        print(\"var:\",self.var)\n",
    "    def call(self):\n",
    "        self.var+=100\n",
    "        self.display()\n",
    "obj=abc(100)\n",
    "obj.call()            \n"
   ]
  },
  {
   "cell_type": "code",
   "execution_count": 2,
   "id": "d4353178",
   "metadata": {},
   "outputs": [
    {
     "name": "stdout",
     "output_type": "stream",
     "text": [
      "Var: 10\n"
     ]
    }
   ],
   "source": [
    "#code for class method to call a function which is defined in global namespace\n",
    "\n",
    "def globe(x):\n",
    "    return x*10\n",
    "class abc():\n",
    "    def __init__(self,var):\n",
    "        self.var=var\n",
    "    def display(self):\n",
    "        print(\"Var:\",self.var)\n",
    "    def modify(self):\n",
    "        self.var=globe(self.var)        \n",
    "    \n",
    "obj=abc(10)\n",
    "obj.display()\n",
    "obj.modify()\n"
   ]
  },
  {
   "cell_type": "code",
   "execution_count": 3,
   "id": "a6a6ba27",
   "metadata": {},
   "outputs": [
    {
     "name": "stdout",
     "output_type": "stream",
     "text": [
      "Vijay got [90, 98, 97]\n",
      "Ajay got [89, 80, 87]\n"
     ]
    }
   ],
   "source": [
    "class student:\n",
    "    def __init__(self,name):\n",
    "        self.name=name\n",
    "        self.marks=[]\n",
    "    def enter_marks(self):\n",
    "        for i in range(3):\n",
    "            m=int(input(\"enter the marks of %s in subject %d:\"%(self.name,i+1)))\n",
    "            self.marks.append(m)\n",
    "    def display(self):\n",
    "        print(self.name,\"got\",self.marks)\n",
    "s1=student(\"Vijay\")\n",
    "s1.enter_marks()\n",
    "s2=student(\"Ajay\")\n",
    "s2.enter_marks()\n",
    "s1.display()\n",
    "s2.display()"
   ]
  },
  {
   "cell_type": "code",
   "execution_count": 4,
   "id": "1b725367",
   "metadata": {},
   "outputs": [
    {
     "name": "stdout",
     "output_type": "stream",
     "text": [
      "Area of rectangle is: 56\n",
      "Perimeter of rectangle is: 30\n"
     ]
    }
   ],
   "source": [
    "class Rectangle:\n",
    "    def __init__(self, length, breadth):\n",
    "        self.length = length\n",
    "        self.breadth = breadth\n",
    "\n",
    "    def area(self):\n",
    "        return self.length * self.breadth\n",
    "\n",
    "    def peri(self):\n",
    "        return 2 * (self.length + self.breadth)\n",
    "\n",
    "\n",
    "l =int(input(\"Enter the value of length:\"))\n",
    "b =int(input(\"Enter the value of breadth:\"))\n",
    "\n",
    "r = Rectangle(l, b)\n",
    "print(\"Area of rectangle is:\", r.area())\n",
    "print(\"Perimeter of rectangle is:\", r.peri())\n"
   ]
  }
 ],
 "metadata": {
  "kernelspec": {
   "display_name": "Python 3",
   "language": "python",
   "name": "python3"
  },
  "language_info": {
   "codemirror_mode": {
    "name": "ipython",
    "version": 3
   },
   "file_extension": ".py",
   "mimetype": "text/x-python",
   "name": "python",
   "nbconvert_exporter": "python",
   "pygments_lexer": "ipython3",
   "version": "3.8.4"
  }
 },
 "nbformat": 4,
 "nbformat_minor": 5
}
